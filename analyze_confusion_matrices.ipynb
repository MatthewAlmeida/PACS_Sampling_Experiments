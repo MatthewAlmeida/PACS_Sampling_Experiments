{
 "cells": [
  {
   "cell_type": "code",
   "execution_count": 1,
   "metadata": {},
   "outputs": [],
   "source": [
    "import numpy as np\n",
    "import seaborn as sns\n",
    "import torch\n",
    "\n",
    "from pathlib import Path"
   ]
  },
  {
   "cell_type": "code",
   "execution_count": 2,
   "metadata": {},
   "outputs": [],
   "source": [
    "def get_tensor_filename(sds_str:str, random_seed:int, split:str, cm:bool=False) -> str:\n",
    "    if cm:\n",
    "        return Path(f\"/data/matthew.almeida001/PACS_Sampling_Experiments/results/{sds_str}/cm-random-seed-{random_seed}-{sds_str}-{split}.pt\")\n",
    "    else:\n",
    "        return Path(f\"/data/matthew.almeida001/PACS_Sampling_Experiments/results/{sds_str}/cm-tensor-random-seed-{random_seed}-{sds_str}-{split}-best.pt\")\n",
    "  "
   ]
  },
  {
   "cell_type": "code",
   "execution_count": 3,
   "metadata": {},
   "outputs": [],
   "source": [
    "seed = 5980\n",
    "sds_str = \"sds\"\n",
    "split = \"train\""
   ]
  },
  {
   "cell_type": "code",
   "execution_count": 4,
   "metadata": {},
   "outputs": [],
   "source": [
    "def get_accuracy_by_epoch(cm_tensor: torch.Tensor) -> torch.Tensor:\n",
    "    n_correct_by_epoch = torch.Tensor([torch.trace(cm_tensor[i]) for i in range(cm_tensor.shape[0])])\n",
    "    return n_correct_by_epoch / torch.sum(cm_tensor[0])"
   ]
  },
  {
   "cell_type": "code",
   "execution_count": 5,
   "metadata": {},
   "outputs": [],
   "source": [
    "train_filename = get_tensor_filename(\"sds\", 8020, \"train\")\n",
    "valid_filename = get_tensor_filename(\"sds\", 8020, \"val\")\n",
    "test_cm_filename = get_tensor_filename(\"sds\", 8020, \"test\", True)"
   ]
  },
  {
   "cell_type": "code",
   "execution_count": 6,
   "metadata": {},
   "outputs": [],
   "source": [
    "train_tensor = torch.load(train_filename)\n",
    "valid_tensor = torch.load(valid_filename)\n",
    "test_cm = torch.load(test_cm_filename)"
   ]
  },
  {
   "cell_type": "code",
   "execution_count": 7,
   "metadata": {},
   "outputs": [],
   "source": [
    "train_accuracies = get_accuracy_by_epoch(train_tensor)\n",
    "val_accuracies = get_accuracy_by_epoch(valid_tensor)"
   ]
  },
  {
   "cell_type": "code",
   "execution_count": 8,
   "metadata": {},
   "outputs": [
    {
     "data": {
      "text/plain": [
       "tensor([0.5993, 0.6675, 0.7469, 0.6799, 0.6675, 0.6836, 0.7444, 0.7345, 0.7258,\n",
       "        0.6600, 0.7233, 0.6501, 0.7097, 0.7692, 0.6402, 0.7494, 0.6700, 0.6998,\n",
       "        0.6476, 0.6787, 0.6526, 0.6836, 0.7754, 0.7829, 0.7531, 0.7816, 0.8089,\n",
       "        0.7531, 0.6402, 0.7444, 0.7779, 0.7543, 0.7891, 0.7568, 0.7717, 0.7593,\n",
       "        0.7978, 0.7754, 0.7804, 0.7854, 0.7680, 0.7928, 0.6700, 0.7320, 0.7357,\n",
       "        0.7667, 0.7457, 0.8139, 0.7122, 0.7208, 0.7630, 0.8127, 0.7605, 0.6948,\n",
       "        0.8065, 0.7159, 0.7506, 0.7816, 0.7767, 0.8871, 0.7171, 0.7506, 0.7531,\n",
       "        0.7767, 0.8127, 0.8437, 0.7717, 0.8052, 0.7370, 0.7122, 0.7295, 0.7717,\n",
       "        0.7667, 0.7407, 0.7208, 0.7630, 0.7804, 0.8102, 0.7916, 0.7295, 0.7407,\n",
       "        0.7481, 0.7829, 0.7494, 0.6625, 0.7866, 0.7531, 0.8213, 0.7804, 0.7841,\n",
       "        0.7605, 0.7022, 0.7481, 0.7246, 0.7109, 0.7469, 0.7978, 0.7494, 0.7730,\n",
       "        0.7171, 0.7630, 0.7444, 0.8065, 0.7481, 0.7370, 0.6427, 0.7754, 0.7916,\n",
       "        0.7804, 0.7754, 0.7940, 0.6973, 0.7444, 0.7270, 0.6898, 0.7171, 0.7717,\n",
       "        0.7159, 0.7122, 0.6787, 0.7221, 0.7035, 0.6985, 0.7543, 0.7134, 0.7109,\n",
       "        0.7345, 0.7171, 0.7543, 0.7270, 0.7444, 0.7035, 0.7196, 0.6886, 0.6973,\n",
       "        0.7878, 0.7630, 0.7469, 0.7283, 0.6898, 0.7816, 0.7357, 0.7841, 0.7109,\n",
       "        0.6799, 0.7184, 0.6799, 0.8015, 0.7543, 0.7357, 0.7159, 0.6352, 0.7283,\n",
       "        0.7060, 0.7568, 0.7171, 0.7655, 0.8114, 0.7730, 0.7395, 0.7022, 0.7444,\n",
       "        0.5744, 0.6824, 0.7444, 0.7667, 0.7680, 0.7593, 0.6377, 0.7556, 0.7531,\n",
       "        0.7692, 0.7109, 0.6923, 0.7208, 0.7122, 0.7283, 0.7916, 0.7506, 0.7891,\n",
       "        0.8114, 0.6836, 0.7667, 0.7779, 0.7643, 0.7457, 0.7283, 0.6737, 0.6600,\n",
       "        0.7159, 0.7444, 0.7395, 0.7395, 0.7258, 0.7221, 0.7221, 0.7444, 0.7010,\n",
       "        0.6749, 0.7730, 0.7481, 0.7506, 0.7568, 0.7419, 0.7010, 0.7022, 0.7035,\n",
       "        0.6836, 0.7382, 0.7221, 0.7320, 0.7333, 0.7593, 0.7581, 0.7667, 0.7308,\n",
       "        0.6700, 0.7978, 0.7953, 0.7593, 0.7878, 0.7965, 0.7717, 0.6973, 0.7060,\n",
       "        0.7246, 0.7395, 0.7655, 0.7543, 0.7568, 0.7605, 0.7494, 0.6377, 0.6948,\n",
       "        0.7705, 0.7730, 0.7767, 0.8040, 0.8040, 0.7854, 0.7494, 0.6687, 0.6017,\n",
       "        0.7146, 0.7556, 0.7581, 0.7717, 0.7754, 0.7816, 0.7717, 0.7730, 0.6179,\n",
       "        0.7568, 0.7146, 0.6638, 0.7010, 0.7233, 0.6390, 0.7333, 0.7519, 0.7680,\n",
       "        0.7444, 0.7556, 0.7556, 0.7717, 0.7084, 0.7146, 0.7047, 0.7283, 0.6998,\n",
       "        0.7146, 0.7295, 0.7283, 0.7370, 0.7370, 0.7122, 0.7295, 0.7531, 0.7692,\n",
       "        0.7457, 0.7320, 0.7295, 0.7419, 0.7382, 0.7370, 0.7792, 0.7419, 0.7246,\n",
       "        0.7519, 0.7841, 0.7779, 0.7196, 0.7407, 0.7419, 0.7643, 0.7345, 0.7320,\n",
       "        0.7184, 0.7407, 0.6948, 0.7866, 0.7320, 0.7494, 0.7829, 0.7692, 0.7655,\n",
       "        0.7395, 0.7568, 0.7506, 0.7568, 0.7333, 0.7295, 0.7457, 0.7655, 0.7432,\n",
       "        0.7444, 0.7295, 0.7692, 0.6390, 0.6849, 0.6973, 0.6774, 0.6787, 0.6898,\n",
       "        0.6712, 0.6588, 0.6948, 0.6923, 0.6886, 0.7171, 0.7519, 0.7171, 0.7233,\n",
       "        0.7357, 0.7916, 0.7680, 0.7469, 0.7543, 0.7742, 0.7345, 0.7692, 0.7097,\n",
       "        0.7444, 0.7543, 0.7717, 0.7705, 0.7754, 0.7655, 0.7680, 0.7643, 0.7630,\n",
       "        0.7357, 0.7308, 0.7333, 0.7618, 0.7481, 0.7382, 0.7283, 0.7295, 0.7432,\n",
       "        0.7605, 0.7568, 0.7754, 0.7829, 0.7779, 0.7928, 0.7891, 0.7854, 0.7543,\n",
       "        0.7854, 0.7407, 0.7494, 0.7692, 0.7444, 0.7568, 0.7295, 0.7692, 0.7481,\n",
       "        0.7581, 0.7308, 0.7494, 0.7345, 0.7469, 0.7419, 0.7717, 0.7469, 0.7605,\n",
       "        0.7667, 0.6824, 0.6898, 0.6973, 0.7395, 0.6960, 0.7022, 0.7246, 0.7146,\n",
       "        0.7469, 0.7270, 0.7246, 0.7357, 0.7531, 0.7109, 0.7171, 0.7643, 0.7742,\n",
       "        0.7767, 0.7655, 0.7643, 0.7556, 0.7605, 0.7345, 0.7568, 0.7370, 0.7295,\n",
       "        0.7134, 0.7444, 0.7767, 0.8040, 0.7481, 0.7643, 0.7667, 0.7692, 0.7792,\n",
       "        0.7680, 0.7792, 0.7556, 0.7519, 0.7519, 0.7407, 0.7457, 0.7556, 0.7556,\n",
       "        0.7593, 0.7581, 0.7630, 0.7692, 0.7543, 0.7655, 0.7556, 0.7643, 0.7581,\n",
       "        0.7742, 0.7630, 0.7717, 0.7680, 0.7494, 0.7184, 0.7159, 0.7742, 0.7605,\n",
       "        0.7618, 0.7630, 0.7519, 0.7556, 0.7519, 0.7506, 0.7308, 0.7469, 0.6911,\n",
       "        0.7667, 0.7469, 0.7469, 0.7494, 0.7754, 0.7742, 0.7754, 0.7680, 0.7717,\n",
       "        0.7804, 0.7730, 0.7692, 0.7692, 0.7270, 0.7655, 0.7469, 0.7370, 0.7419,\n",
       "        0.7432, 0.7432, 0.7457, 0.7333, 0.7370, 0.7556, 0.7395, 0.7481, 0.7097,\n",
       "        0.7568, 0.7568, 0.7705, 0.7581, 0.7630, 0.7556, 0.7469, 0.7146, 0.7667,\n",
       "        0.7717, 0.7742, 0.7705, 0.7705, 0.7965, 0.7270, 0.7854, 0.8002, 0.7779,\n",
       "        0.7891, 0.7866, 0.7233, 0.7531, 0.7432, 0.7680, 0.7866, 0.7730, 0.7692,\n",
       "        0.7680, 0.7730, 0.7717, 0.7705, 0.7692, 0.7506, 0.7730, 0.7643, 0.6998,\n",
       "        0.7097, 0.7506, 0.7543, 0.7618, 0.7531, 0.7680, 0.7444, 0.7705, 0.7841,\n",
       "        0.7928, 0.7891, 0.7816, 0.7730, 0.7792, 0.7717, 0.7742, 0.7767, 0.7792,\n",
       "        0.7903, 0.7841, 0.8077, 0.7965, 0.7333, 0.7506, 0.7792, 0.7779, 0.7854,\n",
       "        0.7742, 0.7382, 0.7717, 0.7717, 0.7792, 0.7866, 0.7804, 0.7643, 0.7667,\n",
       "        0.7754, 0.7630, 0.7767, 0.7730, 0.7767, 0.7792, 0.7816, 0.7283, 0.7643,\n",
       "        0.7816, 0.7692, 0.7692, 0.7767, 0.7767, 0.7878, 0.7928, 0.7903, 0.7916,\n",
       "        0.7916, 0.7903, 0.7891, 0.7940, 0.7866, 0.7903, 0.7940, 0.7742, 0.7692,\n",
       "        0.7891, 0.7829, 0.7767, 0.7643, 0.7643, 0.7767, 0.7891, 0.7841, 0.7866,\n",
       "        0.7841, 0.7767, 0.7878, 0.7866, 0.7767, 0.7866, 0.7767, 0.7792, 0.7804,\n",
       "        0.7804, 0.7829, 0.7841, 0.7866, 0.7841, 0.7779, 0.7792, 0.7804, 0.7717,\n",
       "        0.7581, 0.7270, 0.7643, 0.7581, 0.7519, 0.7519, 0.7543, 0.7618, 0.7519,\n",
       "        0.7618, 0.7519, 0.7717, 0.7655, 0.7767, 0.7916, 0.7792, 0.7705, 0.7742,\n",
       "        0.7730, 0.7730, 0.7730, 0.7692, 0.7680, 0.7581, 0.7531, 0.7717, 0.7605,\n",
       "        0.7494, 0.7928, 0.8015, 0.7965, 0.7965, 0.7928, 0.7916, 0.7940, 0.7928,\n",
       "        0.7717, 0.7916, 0.7965, 0.7878, 0.7705, 0.7705, 0.7754, 0.7593, 0.7605,\n",
       "        0.7692, 0.7643, 0.7680, 0.7767, 0.7792, 0.7655, 0.7432, 0.7767, 0.7754,\n",
       "        0.7953, 0.7891, 0.7916, 0.7891, 0.7866, 0.7841, 0.7878, 0.7916, 0.7903,\n",
       "        0.7878, 0.7891, 0.7928, 0.7916, 0.7953, 0.7940, 0.7866, 0.7940, 0.7928,\n",
       "        0.7854, 0.7928, 0.7854, 0.7891, 0.7792, 0.7841, 0.7717, 0.7878, 0.7866,\n",
       "        0.7928, 0.7854, 0.7779, 0.7854, 0.7903, 0.7940, 0.7965, 0.7990, 0.7866,\n",
       "        0.7965, 0.7965, 0.7953, 0.7903, 0.7903, 0.8002, 0.8015, 0.8065, 0.8040,\n",
       "        0.8089, 0.8089, 0.8002, 0.8002, 0.8052, 0.8077, 0.8015, 0.7940, 0.8065,\n",
       "        0.8040, 0.8089, 0.8040, 0.8077, 0.8151, 0.8065, 0.8089, 0.8102, 0.8089,\n",
       "        0.8127, 0.8114, 0.8102, 0.8077, 0.8040, 0.8002, 0.7705, 0.7891, 0.8102,\n",
       "        0.7990, 0.7891, 0.7978, 0.8002, 0.7928, 0.8089, 0.7779, 0.7866, 0.7742,\n",
       "        0.7779, 0.7742, 0.7717, 0.7767, 0.7730, 0.7891, 0.7829, 0.7792, 0.7767,\n",
       "        0.7854, 0.7804, 0.7854, 0.8040, 0.7953, 0.7878, 0.7928, 0.7916, 0.7854,\n",
       "        0.7891, 0.7891, 0.8015, 0.7891, 0.7940, 0.7854, 0.7854, 0.7816, 0.7903,\n",
       "        0.7692, 0.7581, 0.7866, 0.7903, 0.7866, 0.7903, 0.7940, 0.7891, 0.7891,\n",
       "        0.7965, 0.7978, 0.8015, 0.7953, 0.7928, 0.7940, 0.8002, 0.7965, 0.7928,\n",
       "        0.7916, 0.7816, 0.7891, 0.7903, 0.7928, 0.7928, 0.7940, 0.7965, 0.7891,\n",
       "        0.7816, 0.7829, 0.7854, 0.7804, 0.8040, 0.8201, 0.7866, 0.7841, 0.7891,\n",
       "        0.7878, 0.7990, 0.8015, 0.7965, 0.7841, 0.7841, 0.7928, 0.7792, 0.7940,\n",
       "        0.7953, 0.7680, 0.7903, 0.7816, 0.7829, 0.7854, 0.7841, 0.7854, 0.7854,\n",
       "        0.7866, 0.7940, 0.7841, 0.7965, 0.7978, 0.7953, 0.7903, 0.7804, 0.7928,\n",
       "        0.7841, 0.7829, 0.7866, 0.7854, 0.7928, 0.7916, 0.7990, 0.7903, 0.7878,\n",
       "        0.7940, 0.7854, 0.7965, 0.7928, 0.7891, 0.7854, 0.7854, 0.7878, 0.7866,\n",
       "        0.7903, 0.7916, 0.7891, 0.7928, 0.7928, 0.7928, 0.7940, 0.7878, 0.7940,\n",
       "        0.7878, 0.7866, 0.7891, 0.7903, 0.7841, 0.7928, 0.7916, 0.7903, 0.7891,\n",
       "        0.7965, 0.7928, 0.7854, 0.7866, 0.7878, 0.7916, 0.7878, 0.7940, 0.7903,\n",
       "        0.7965, 0.8015, 0.7916, 0.8002, 0.7953, 0.7953, 0.7928, 0.7953, 0.7978,\n",
       "        0.7940, 0.7965, 0.7953, 0.8027, 0.7940, 0.7953, 0.7916, 0.7965, 0.7916,\n",
       "        0.7928, 0.7978, 0.7903, 0.7953, 0.8015, 0.7990, 0.7965, 0.7990, 0.7965,\n",
       "        0.7953, 0.7928, 0.7928, 0.7928, 0.7965, 0.7953, 0.7940, 0.7965, 0.7903,\n",
       "        0.7953, 0.7940, 0.7953, 0.7903, 0.7965, 0.7940, 0.8002, 0.7990, 0.7965,\n",
       "        0.7953, 0.7940, 0.7940, 0.7928, 0.8065, 0.7891, 0.7990, 0.7940, 0.7916,\n",
       "        0.7990, 0.7878, 0.7891, 0.7990, 0.7990, 0.7965, 0.7928, 0.8002, 0.7953,\n",
       "        0.7940, 0.7953, 0.7928, 0.8015, 0.7978, 0.7928, 0.7953, 0.7928, 0.8015,\n",
       "        0.7965, 0.7916, 0.7978, 0.7903, 0.7903, 0.7940, 0.7916, 0.7953, 0.7953,\n",
       "        0.7978, 0.7928, 0.7990, 0.7928, 0.7990, 0.7940, 0.8002, 0.7990, 0.8015,\n",
       "        0.7978, 0.7928, 0.7978, 0.7965, 0.7978, 0.8002, 0.7965, 0.7940, 0.7990,\n",
       "        0.7928, 0.7978, 0.7965, 0.7978, 0.7940, 0.7891, 0.7990, 0.7928, 0.7891,\n",
       "        0.7928, 0.7978, 0.8027, 0.7940, 0.7990, 0.7940, 0.7953, 0.7940, 0.7990,\n",
       "        0.7940])"
      ]
     },
     "execution_count": 8,
     "metadata": {},
     "output_type": "execute_result"
    }
   ],
   "source": [
    "val_accuracies"
   ]
  },
  {
   "cell_type": "code",
   "execution_count": 9,
   "metadata": {},
   "outputs": [
    {
     "data": {
      "text/plain": [
       "<AxesSubplot:>"
      ]
     },
     "execution_count": 9,
     "metadata": {},
     "output_type": "execute_result"
    },
    {
     "data": {
      "image/png": "[encoded data removed]",
      "text/plain": [
       "<Figure size 432x288 with 1 Axes>"
      ]
     },
     "metadata": {
      "needs_background": "light"
     },
     "output_type": "display_data"
    }
   ],
   "source": [
    "sns.lineplot(x=torch.arange(train_accuracies.shape[0]), y=train_accuracies)\n",
    "sns.lineplot(x=torch.arange(train_accuracies.shape[0]), y=val_accuracies)"
   ]
  },
  {
   "cell_type": "code",
   "execution_count": 10,
   "metadata": {},
   "outputs": [
    {
     "data": {
      "text/plain": [
       "tensor(0.6074)"
      ]
     },
     "execution_count": 10,
     "metadata": {},
     "output_type": "execute_result"
    }
   ],
   "source": [
    "torch.trace(test_cm) / torch.sum(test_cm)"
   ]
  },
  {
   "cell_type": "code",
   "execution_count": null,
   "metadata": {},
   "outputs": [],
   "source": []
  }
 ],
 "metadata": {
  "interpreter": {
   "hash": "5bde6fa9f9f5a4bbe5e7a237139fc4d996e3df00a75cc17385dd23184ecd8242"
  },
  "kernelspec": {
   "display_name": "Python 3.9.0 64-bit ('pacs': conda)",
   "name": "python3"
  },
  "language_info": {
   "codemirror_mode": {
    "name": "ipython",
    "version": 3
   },
   "file_extension": ".py",
   "mimetype": "text/x-python",
   "name": "python",
   "nbconvert_exporter": "python",
   "pygments_lexer": "ipython3",
   "version": "3.9.0"
  },
  "orig_nbformat": 4
 },
 "nbformat": 4,
 "nbformat_minor": 2
}
