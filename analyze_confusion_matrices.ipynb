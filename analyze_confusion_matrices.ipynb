{
 "cells": [
  {
   "cell_type": "code",
   "execution_count": 1,
   "metadata": {},
   "outputs": [],
   "source": [
    "import numpy as np\n",
    "import seaborn as sns\n",
    "import torch\n",
    "\n",
    "from pathlib import Path"
   ]
  },
  {
   "cell_type": "code",
   "execution_count": 2,
   "metadata": {},
   "outputs": [],
   "source": [
    "def get_tensor_filename(sds_str:str, random_seed:int, split:str, cm:bool=False) -> str:\n",
    "    if cm:\n",
    "        return Path(f\"/data/matthew.almeida001/PACS_Sampling_Experiments/results/{sds_str}/cm-random-seed-{random_seed}-{sds_str}-{split}.pt\")\n",
    "    else:\n",
    "        return Path(f\"/data/matthew.almeida001/PACS_Sampling_Experiments/results/{sds_str}/cm-tensor-random-seed-{random_seed}-{sds_str}-{split}-best.pt\")\n",
    "  "
   ]
  },
  {
   "cell_type": "code",
   "execution_count": 3,
   "metadata": {},
   "outputs": [],
   "source": [
    "seed = 5980\n",
    "sds_str = \"sds\"\n",
    "split = \"train\""
   ]
  },
  {
   "cell_type": "code",
   "execution_count": 4,
   "metadata": {},
   "outputs": [],
   "source": [
    "def get_accuracy_by_epoch(cm_tensor: torch.Tensor) -> torch.Tensor:\n",
    "    n_correct_by_epoch = torch.Tensor([torch.trace(cm_tensor[i]) for i in range(cm_tensor.shape[0])])\n",
    "    return n_correct_by_epoch / torch.sum(cm_tensor[0])"
   ]
  },
  {
   "cell_type": "code",
   "execution_count": 10,
   "metadata": {},
   "outputs": [],
   "source": [
    "train_filename = get_tensor_filename(\"sds\", 4036, \"train\")\n",
    "valid_filename = get_tensor_filename(\"sds\", 4036, \"val\")\n",
    "test_cm_filename = get_tensor_filename(\"sds\", 4036, \"test\", True)"
   ]
  },
  {
   "cell_type": "code",
   "execution_count": 11,
   "metadata": {},
   "outputs": [],
   "source": [
    "train_tensor = torch.load(train_filename)\n",
    "valid_tensor = torch.load(valid_filename)\n",
    "test_cm = torch.load(test_cm_filename)"
   ]
  },
  {
   "cell_type": "code",
   "execution_count": 12,
   "metadata": {},
   "outputs": [],
   "source": [
    "train_accuracies = get_accuracy_by_epoch(train_tensor)\n",
    "val_accuracies = get_accuracy_by_epoch(valid_tensor)"
   ]
  },
  {
   "cell_type": "code",
   "execution_count": 13,
   "metadata": {},
   "outputs": [
    {
     "data": {
      "text/plain": [
       "tensor([0.7258, 0.7022, 0.6402, 0.6638, 0.5583, 0.6253, 0.6588, 0.7283, 0.6464,\n",
       "        0.7246, 0.7543, 0.6042, 0.7531, 0.6799, 0.6129, 0.6787, 0.7630, 0.7035,\n",
       "        0.5658, 0.7643, 0.7258, 0.6774, 0.7221, 0.6551, 0.6849, 0.6700, 0.6873,\n",
       "        0.7481, 0.6774, 0.6675, 0.7953, 0.6824, 0.6476, 0.7184, 0.7481, 0.7605,\n",
       "        0.7779, 0.7605, 0.7146, 0.7184, 0.7084, 0.7543, 0.7295, 0.7667, 0.7270,\n",
       "        0.7357, 0.7990, 0.7767, 0.7605, 0.7122, 0.6762, 0.7593, 0.7556, 0.7593,\n",
       "        0.7270, 0.7469, 0.7655, 0.7866, 0.7866, 0.6898, 0.7655, 0.7543, 0.7742,\n",
       "        0.7705, 0.7916, 0.8027, 0.7667, 0.7481, 0.7742, 0.7655, 0.7854, 0.7667,\n",
       "        0.7841, 0.7891, 0.7816, 0.7605, 0.7568, 0.7692, 0.7531, 0.7630, 0.7655,\n",
       "        0.7705, 0.7854, 0.8065, 0.7717, 0.7940, 0.7829, 0.7717, 0.7779, 0.7891,\n",
       "        0.7953, 0.7829, 0.7841, 0.7854, 0.7866, 0.7767, 0.7866, 0.7841, 0.7854,\n",
       "        0.7804])"
      ]
     },
     "execution_count": 13,
     "metadata": {},
     "output_type": "execute_result"
    }
   ],
   "source": [
    "val_accuracies"
   ]
  },
  {
   "cell_type": "code",
   "execution_count": 15,
   "metadata": {},
   "outputs": [
    {
     "data": {
      "text/plain": [
       "<AxesSubplot:>"
      ]
     },
     "execution_count": 15,
     "metadata": {},
     "output_type": "execute_result"
    },
    {
     "data": {
      "image/png": "[encoded data removed]",
      "text/plain": [
       "<Figure size 432x288 with 1 Axes>"
      ]
     },
     "metadata": {
      "needs_background": "light"
     },
     "output_type": "display_data"
    }
   ],
   "source": [
    "sns.lineplot(x=torch.arange(train_accuracies.shape[0]), y=train_accuracies)\n",
    "sns.lineplot(x=torch.arange(train_accuracies.shape[0]), y=val_accuracies)"
   ]
  },
  {
   "cell_type": "code",
   "execution_count": 16,
   "metadata": {},
   "outputs": [
    {
     "data": {
      "text/plain": [
       "tensor(0.3984)"
      ]
     },
     "execution_count": 16,
     "metadata": {},
     "output_type": "execute_result"
    }
   ],
   "source": [
    "torch.trace(test_cm) / torch.sum(test_cm)"
   ]
  },
  {
   "cell_type": "code",
   "execution_count": null,
   "metadata": {},
   "outputs": [],
   "source": []
  }
 ],
 "metadata": {
  "interpreter": {
   "hash": "5bde6fa9f9f5a4bbe5e7a237139fc4d996e3df00a75cc17385dd23184ecd8242"
  },
  "kernelspec": {
   "display_name": "Python 3.9.0 64-bit ('pacs': conda)",
   "name": "python3"
  },
  "language_info": {
   "codemirror_mode": {
    "name": "ipython",
    "version": 3
   },
   "file_extension": ".py",
   "mimetype": "text/x-python",
   "name": "python",
   "nbconvert_exporter": "python",
   "pygments_lexer": "ipython3",
   "version": "3.9.0"
  },
  "orig_nbformat": 4
 },
 "nbformat": 4,
 "nbformat_minor": 2
}
